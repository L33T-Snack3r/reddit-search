{
 "cells": [
  {
   "cell_type": "markdown",
   "metadata": {},
   "source": [
    "### Reddit PRAW testing"
   ]
  },
  {
   "cell_type": "code",
   "execution_count": null,
   "metadata": {},
   "outputs": [],
   "source": [
    "import praw\n",
    "import pandas as pd\n",
    "from pydantic_settings import BaseSettings, SettingsConfigDict\n",
    "from loguru import logger\n",
    "from typing import List\n"
   ]
  },
  {
   "cell_type": "code",
   "execution_count": 3,
   "metadata": {},
   "outputs": [],
   "source": [
    "class Settings(BaseSettings):\n",
    "    model_config = SettingsConfigDict(env_prefix=\"reddit_\")\n",
    "    api_id : str\n",
    "    api_secret: str\n",
    "    username: str\n",
    "    password: str"
   ]
  },
  {
   "cell_type": "code",
   "execution_count": 5,
   "metadata": {},
   "outputs": [],
   "source": [
    "cfg=Settings()"
   ]
  },
  {
   "cell_type": "code",
   "execution_count": 6,
   "metadata": {},
   "outputs": [],
   "source": [
    "reddit = praw.Reddit(user_agent=True,\n",
    "                        client_id=cfg.api_id,\n",
    "                        client_secret=cfg.api_secret,\n",
    "                        username=cfg.username,\n",
    "                        password=cfg.password)"
   ]
  },
  {
   "cell_type": "markdown",
   "metadata": {},
   "source": [
    "Search by URL"
   ]
  },
  {
   "cell_type": "code",
   "execution_count": 42,
   "metadata": {},
   "outputs": [
    {
     "ename": "InvalidURL",
     "evalue": "Invalid URL: https://i.redd.it/2j1ents09gnd1.jpeg",
     "output_type": "error",
     "traceback": [
      "\u001b[1;31m---------------------------------------------------------------------------\u001b[0m",
      "\u001b[1;31mInvalidURL\u001b[0m                                Traceback (most recent call last)",
      "Cell \u001b[1;32mIn[42], line 3\u001b[0m\n\u001b[0;32m      1\u001b[0m \u001b[38;5;66;03m#url=\"https://www.reddit.com/r/migraine/comments/12gvvx3/what_headachemigraine_meds_is_most_favorable_in/\"\u001b[39;00m\n\u001b[0;32m      2\u001b[0m url \u001b[38;5;241m=\u001b[39m \u001b[38;5;124m\"\u001b[39m\u001b[38;5;124mhttps://i.redd.it/2j1ents09gnd1.jpeg\u001b[39m\u001b[38;5;124m\"\u001b[39m\n\u001b[1;32m----> 3\u001b[0m submission\u001b[38;5;241m=\u001b[39m\u001b[43mreddit\u001b[49m\u001b[38;5;241;43m.\u001b[39;49m\u001b[43msubmission\u001b[49m\u001b[43m(\u001b[49m\u001b[43murl\u001b[49m\u001b[38;5;241;43m=\u001b[39;49m\u001b[43murl\u001b[49m\u001b[43m)\u001b[49m\n\u001b[0;32m      4\u001b[0m submission\u001b[38;5;241m.\u001b[39mcomments\u001b[38;5;241m.\u001b[39mreplace_more(limit\u001b[38;5;241m=\u001b[39m\u001b[38;5;241m0\u001b[39m)\n\u001b[0;32m      6\u001b[0m post_data \u001b[38;5;241m=\u001b[39m {\n\u001b[0;32m      7\u001b[0m     \u001b[38;5;124m\"\u001b[39m\u001b[38;5;124mtitle\u001b[39m\u001b[38;5;124m\"\u001b[39m: submission\u001b[38;5;241m.\u001b[39mtitle,\n\u001b[0;32m      8\u001b[0m     \u001b[38;5;124m\"\u001b[39m\u001b[38;5;124mscore\u001b[39m\u001b[38;5;124m\"\u001b[39m: submission\u001b[38;5;241m.\u001b[39mscore,\n\u001b[1;32m   (...)\u001b[0m\n\u001b[0;32m     19\u001b[0m     } \u001b[38;5;28;01mfor\u001b[39;00m comment \u001b[38;5;129;01min\u001b[39;00m submission\u001b[38;5;241m.\u001b[39mcomments]\n\u001b[0;32m     20\u001b[0m }\n",
      "File \u001b[1;32mc:\\Users\\Daniel.JosephLim\\Documents\\reddit-search\\.venv\\Lib\\site-packages\\praw\\util\\deprecate_args.py:46\u001b[0m, in \u001b[0;36m_deprecate_args.<locals>.wrapper.<locals>.wrapped\u001b[1;34m(*args, **kwargs)\u001b[0m\n\u001b[0;32m     39\u001b[0m     arg_string \u001b[38;5;241m=\u001b[39m _generate_arg_string(_old_args[: \u001b[38;5;28mlen\u001b[39m(args)])\n\u001b[0;32m     40\u001b[0m     warn(\n\u001b[0;32m     41\u001b[0m         \u001b[38;5;124mf\u001b[39m\u001b[38;5;124m\"\u001b[39m\u001b[38;5;124mPositional arguments for \u001b[39m\u001b[38;5;132;01m{\u001b[39;00mfunc\u001b[38;5;241m.\u001b[39m\u001b[38;5;18m__qualname__\u001b[39m\u001b[38;5;132;01m!r}\u001b[39;00m\u001b[38;5;124m will no longer be\u001b[39m\u001b[38;5;124m\"\u001b[39m\n\u001b[0;32m     42\u001b[0m         \u001b[38;5;124mf\u001b[39m\u001b[38;5;124m\"\u001b[39m\u001b[38;5;124m supported in PRAW 8.\u001b[39m\u001b[38;5;130;01m\\n\u001b[39;00m\u001b[38;5;124mCall this function with \u001b[39m\u001b[38;5;132;01m{\u001b[39;00marg_string\u001b[38;5;132;01m}\u001b[39;00m\u001b[38;5;124m.\u001b[39m\u001b[38;5;124m\"\u001b[39m,\n\u001b[0;32m     43\u001b[0m         \u001b[38;5;167;01mDeprecationWarning\u001b[39;00m,\n\u001b[0;32m     44\u001b[0m         stacklevel\u001b[38;5;241m=\u001b[39m\u001b[38;5;241m2\u001b[39m,\n\u001b[0;32m     45\u001b[0m     )\n\u001b[1;32m---> 46\u001b[0m \u001b[38;5;28;01mreturn\u001b[39;00m \u001b[43mfunc\u001b[49m\u001b[43m(\u001b[49m\u001b[38;5;241;43m*\u001b[39;49m\u001b[38;5;241;43m*\u001b[39;49m\u001b[38;5;28;43mdict\u001b[39;49m\u001b[43m(\u001b[49m\u001b[38;5;28;43mzip\u001b[39;49m\u001b[43m(\u001b[49m\u001b[43m_old_args\u001b[49m\u001b[43m,\u001b[49m\u001b[43m \u001b[49m\u001b[43margs\u001b[49m\u001b[43m)\u001b[49m\u001b[43m)\u001b[49m\u001b[43m,\u001b[49m\u001b[43m \u001b[49m\u001b[38;5;241;43m*\u001b[39;49m\u001b[38;5;241;43m*\u001b[39;49m\u001b[43mkwargs\u001b[49m\u001b[43m)\u001b[49m\n",
      "File \u001b[1;32mc:\\Users\\Daniel.JosephLim\\Documents\\reddit-search\\.venv\\Lib\\site-packages\\praw\\reddit.py:1005\u001b[0m, in \u001b[0;36mReddit.submission\u001b[1;34m(self, id, url)\u001b[0m\n\u001b[0;32m   1003\u001b[0m \u001b[38;5;28;01mif\u001b[39;00m url:\n\u001b[0;32m   1004\u001b[0m     url \u001b[38;5;241m=\u001b[39m \u001b[38;5;28mself\u001b[39m\u001b[38;5;241m.\u001b[39m_resolve_share_url(url)\n\u001b[1;32m-> 1005\u001b[0m \u001b[38;5;28;01mreturn\u001b[39;00m \u001b[43mmodels\u001b[49m\u001b[38;5;241;43m.\u001b[39;49m\u001b[43mSubmission\u001b[49m\u001b[43m(\u001b[49m\u001b[38;5;28;43mself\u001b[39;49m\u001b[43m,\u001b[49m\u001b[43m \u001b[49m\u001b[38;5;28;43mid\u001b[39;49m\u001b[38;5;241;43m=\u001b[39;49m\u001b[38;5;28;43mid\u001b[39;49m\u001b[43m,\u001b[49m\u001b[43m \u001b[49m\u001b[43murl\u001b[49m\u001b[38;5;241;43m=\u001b[39;49m\u001b[43murl\u001b[49m\u001b[43m)\u001b[49m\n",
      "File \u001b[1;32mc:\\Users\\Daniel.JosephLim\\Documents\\reddit-search\\.venv\\Lib\\site-packages\\praw\\models\\reddit\\submission.py:605\u001b[0m, in \u001b[0;36mSubmission.__init__\u001b[1;34m(self, reddit, id, url, _data)\u001b[0m\n\u001b[0;32m    603\u001b[0m     \u001b[38;5;28mself\u001b[39m\u001b[38;5;241m.\u001b[39mid \u001b[38;5;241m=\u001b[39m \u001b[38;5;28mid\u001b[39m\n\u001b[0;32m    604\u001b[0m \u001b[38;5;28;01melif\u001b[39;00m url:\n\u001b[1;32m--> 605\u001b[0m     \u001b[38;5;28mself\u001b[39m\u001b[38;5;241m.\u001b[39mid \u001b[38;5;241m=\u001b[39m \u001b[38;5;28;43mself\u001b[39;49m\u001b[38;5;241;43m.\u001b[39;49m\u001b[43mid_from_url\u001b[49m\u001b[43m(\u001b[49m\u001b[43murl\u001b[49m\u001b[43m)\u001b[49m\n\u001b[0;32m    607\u001b[0m \u001b[38;5;28msuper\u001b[39m()\u001b[38;5;241m.\u001b[39m\u001b[38;5;21m__init__\u001b[39m(reddit, _data\u001b[38;5;241m=\u001b[39m_data)\n\u001b[0;32m    609\u001b[0m \u001b[38;5;28mself\u001b[39m\u001b[38;5;241m.\u001b[39m_additional_fetch_params \u001b[38;5;241m=\u001b[39m {}\n",
      "File \u001b[1;32mc:\\Users\\Daniel.JosephLim\\Documents\\reddit-search\\.venv\\Lib\\site-packages\\praw\\models\\reddit\\submission.py:494\u001b[0m, in \u001b[0;36mSubmission.id_from_url\u001b[1;34m(url)\u001b[0m\n\u001b[0;32m    491\u001b[0m     submission_id \u001b[38;5;241m=\u001b[39m parts[parts\u001b[38;5;241m.\u001b[39mindex(\u001b[38;5;124m\"\u001b[39m\u001b[38;5;124mcomments\u001b[39m\u001b[38;5;124m\"\u001b[39m) \u001b[38;5;241m+\u001b[39m \u001b[38;5;241m1\u001b[39m]\n\u001b[0;32m    493\u001b[0m \u001b[38;5;28;01mif\u001b[39;00m \u001b[38;5;129;01mnot\u001b[39;00m submission_id\u001b[38;5;241m.\u001b[39misalnum():\n\u001b[1;32m--> 494\u001b[0m     \u001b[38;5;28;01mraise\u001b[39;00m InvalidURL(url)\n\u001b[0;32m    495\u001b[0m \u001b[38;5;28;01mreturn\u001b[39;00m submission_id\n",
      "\u001b[1;31mInvalidURL\u001b[0m: Invalid URL: https://i.redd.it/2j1ents09gnd1.jpeg"
     ]
    }
   ],
   "source": [
    "#url=\"https://www.reddit.com/r/migraine/comments/12gvvx3/what_headachemigraine_meds_is_most_favorable_in/\"\n",
    "url = \"https://i.redd.it/2j1ents09gnd1.jpeg\"\n",
    "submission=reddit.submission(url=url)\n",
    "submission.comments.replace_more(limit=0)\n",
    "\n",
    "post_data = {\n",
    "    \"title\": submission.title,\n",
    "    \"score\": submission.score,\n",
    "    \"url\": submission.url,\n",
    "    \"subreddit\": str(submission.subreddit),\n",
    "    \"author\": str(submission.author),\n",
    "    \"created_utc\": submission.created_utc,\n",
    "    \"text\": submission.selftext,\n",
    "    \"comments\": [{\n",
    "        \"author\": str(comment.author),\n",
    "        \"body\": comment.body,\n",
    "        \"score\": comment.score,\n",
    "        \"created_utc\": comment.created_utc\n",
    "    } for comment in submission.comments]\n",
    "}"
   ]
  },
  {
   "cell_type": "code",
   "execution_count": 20,
   "metadata": {},
   "outputs": [
    {
     "data": {
      "text/plain": [
       "76"
      ]
     },
     "execution_count": 20,
     "metadata": {},
     "output_type": "execute_result"
    }
   ],
   "source": [
    "len(post_data[\"comments\"])"
   ]
  },
  {
   "cell_type": "markdown",
   "metadata": {},
   "source": [
    "Search by query"
   ]
  },
  {
   "cell_type": "code",
   "execution_count": 45,
   "metadata": {},
   "outputs": [
    {
     "name": "stdout",
     "output_type": "stream",
     "text": [
      "What combination of migraine relief do you use when you have a migraine?\n",
      "https://www.reddit.com/r/migraine/comments/19brueh/what_combination_of_migraine_relief_do_you_use/\n",
      "19brueh\n",
      "[73, 22, 16, 16, 13, 10, 8, 8, 7, 5, 5, 5, 5, 3, 3, 3, 2, 2, 2, 2, 2, 2, 2, 2, 2, 2, 2, 2, 2, 2, 2, 1, 1, 1, 1, 1, 1, 1, 1, 1, 1, 1, 1, 1, 1, 1, 1, 1, 1, 1, 1, 1, 1, 1, 1, 1, 1, 1, 1, 1, 1, 1, 1, 1, 1, 1, 1, 1, 1]\n",
      "What’s your go-to migraine relief in 2024?\n",
      "https://www.reddit.com/r/migraine/comments/1hr5cfz/whats_your_goto_migraine_relief_in_2024/\n",
      "1hr5cfz\n",
      "[18, 10, 8, 6, 4, 4, 2, 2, 2, 2, 2, 2, 2, 2, 2, 1, 1, 1, 1, 1, 1, 1, 1, 1, 1, 1, 1, 1, 1, 1, 1, 1, 1, 1, 1, 1, 1, 1, 1, 1, 1, 1, 1, 1, 1, 1, 1, 1, 1, 1, 1, -1]\n",
      "Migraine sufferers - What is your solution for relief?\n",
      "https://www.reddit.com/r/AskReddit/comments/z4coy3/migraine_sufferers_what_is_your_solution_for/\n",
      "z4coy3\n",
      "[16, 12, 9, 5, 3, 3, 3, 3, 3, 2, 2, 2, 2, 2, 2, 2, 2, 2, 2, 2, 2, 2, 2, 3, 2, 2, 0, -1, 1, 1, 1, 1, 1, 1, 1, 1, 1, 1, 1, 1, 1, 1, 1, 1, 1, 1, 1, 1, 1, 1, 1, 1, 1, 1, 1, 1, 1]\n",
      "Has anyone tried this for migraine relief?\n",
      "https://www.reddit.com/gallery/1ebxwjb\n",
      "1ebxwjb\n",
      "[217, 53, 43, 26, 14, 12, 9, 8, 8, 8, 6, 5, 5, 6, 4, 4, 4, 3, 3, 3, 3, 3, 3, 3, 3, 3, 2, 2, 2, 2, 2, 2, 2, 2, 2, 2, 2, 2, 2, 2, 2, 2, 2, 2, 2, 2, 2, 2, 2, 2, 2, 2, 2, 2, 2, 2, 2, 2, 2, 2, 2, 2, 2, 2, 2, 2, 2, 2, 2, 2, 2, 2, 2, 2, 2, 2, 2, 2, 2, 2, 2, 2, 2, 2, 2, 2, 2, 2, 2, 2, 2, 2, 2, 2, 2, 2, 2, 2, 2, 2, 2, 2, 2, 2, 2, 2, 2, 2, 2, 2, 2, 2, 2, 2, 2, 2, 1, 1, 1, 1, 1, 1, 1, 1, 1, 1, 1, 1, 1, 1, 1, 1, 1, 1]\n",
      "migraine relief? I'm desperate\n",
      "https://www.reddit.com/r/NYCbitcheswithtaste/comments/1e7uahp/migraine_relief_im_desperate/\n",
      "1e7uahp\n",
      "[18, 7, 9, 4, 3, 3, 3, 3, 3, 4, 2, 2, 2, 2, 2, 2, 2, 2, 2, 2, 2, 2, 2, 2, 2, 2, 2, 1, 1]\n",
      "A picture of my medicine cabinet (real pills/liquid in ever bottle)\n",
      "https://i.redd.it/2j1ents09gnd1.jpeg\n",
      "1fbgsmk\n",
      "[1, 2575, 953, 805, 294, 255, 189, 423, 59, 137, 92, 75, 38, 32, 21, 20, 20, 18, 16, 16, 34, 11, 12, 23, 24, 10, 11, 9, 8, 9, 15, 6, 6, 7, 5, 6, 6, 6, 7, 9, 11, 5, 6, 11, 5, 5, 5, 4, 4, 3, 3, 3, 3, 3, 3, 3, 3, 3, 3, 3, 3, 3, 3, 3, 4, 3, 3, 2, 2, 2, 2, 2, 2, 2, 2, 2, 2, 2, 2, 2, 2, 2, 2, 2, 2, 2, 2, 2, 2, 2, 2, 2, 2, 2, 2, 2, 2, 2, 2, 2, 2, 2, 2, 2, 2, 2, 2, 2, 2, 2, 2, 2, 2, 2, 2, 2, 2, 2, 2, 2, 2, 2, 2, 2, 2, 2, 2, 2, 2, 3, 2, 2, 2, 2, 1, 1, 1, 1, 1, 1, 1, 1, 1, 1, 1, 1, 1, 1, 1, 1, 1, 1, 1, 1, 1, 1, 1, 1, 1, 1, 1, 1, 1, 1, 1, 1, 1, 1, 1, 1, 1, 1, 1, 1, 1, 1, 1, 1, 1, 1, 1, 1, 1, 1, 1, 1, 1, 1, 1, 1, 1, 1, 1, 1, 1, 1, 1, 1, 1, 1, 1, 1, 1, 1, 1, 1, 1, 1, 1, 1, 1, 1, 1, 1, 1, 1, 1, 1, 1, 1, 1, 1, 1, 1, 1, 1, 1, 1, 1, -1, 0, 0, 0, 0]\n",
      "Natural Remedies for Migraine Relief: What Works for You?\n",
      "https://www.reddit.com/r/naturalremedies/comments/1h69w7d/natural_remedies_for_migraine_relief_what_works/\n",
      "1h69w7d\n",
      "[3, 3, 2, 2, 2, 1, 1, 1, 1, 1, 1, 1, 1, 1, 1]\n",
      "A picture of my medicine cabinet (real pills/liquid in ever bottle) Information on any bottle is greatly appreciated \n",
      "https://i.redd.it/7pluygrebede1.jpeg\n",
      "1i2v2tv\n"
     ]
    },
    {
     "ename": "AttributeError",
     "evalue": "'MoreComments' object has no attribute 'score'",
     "output_type": "error",
     "traceback": [
      "\u001b[1;31m---------------------------------------------------------------------------\u001b[0m",
      "\u001b[1;31mAttributeError\u001b[0m                            Traceback (most recent call last)",
      "Cell \u001b[1;32mIn[45], line 10\u001b[0m\n\u001b[0;32m      7\u001b[0m \u001b[38;5;28mprint\u001b[39m(post\u001b[38;5;241m.\u001b[39mid)\n\u001b[0;32m      8\u001b[0m \u001b[38;5;66;03m# print(post.selftext)\u001b[39;00m\n\u001b[0;32m      9\u001b[0m \u001b[38;5;66;03m# print(f\"score: {post.score}, upvote ratio: {post.upvote_ratio}\")\u001b[39;00m\n\u001b[1;32m---> 10\u001b[0m \u001b[38;5;28mprint\u001b[39m([\u001b[43mcomment\u001b[49m\u001b[38;5;241;43m.\u001b[39;49m\u001b[43mscore\u001b[49m \u001b[38;5;28;01mfor\u001b[39;00m comment \u001b[38;5;129;01min\u001b[39;00m post\u001b[38;5;241m.\u001b[39mcomments])\n\u001b[0;32m     11\u001b[0m \u001b[38;5;66;03m# print(\"\")\u001b[39;00m\n",
      "\u001b[1;31mAttributeError\u001b[0m: 'MoreComments' object has no attribute 'score'"
     ]
    }
   ],
   "source": [
    "query = \"Migraine relief\" \n",
    "all_subreddits = reddit.subreddit('all')\n",
    "search = all_subreddits.search(query, sort='relevance', time_filter='all', limit=10)\n",
    "for post in search:\n",
    "    print(post.title)\n",
    "    print(post.url)\n",
    "    print(post.id)\n",
    "    # print(post.selftext)\n",
    "    # print(f\"score: {post.score}, upvote ratio: {post.upvote_ratio}\")\n",
    "    print([comment.score for comment in post.comments])\n",
    "    # print(\"\")"
   ]
  },
  {
   "cell_type": "code",
   "execution_count": 23,
   "metadata": {},
   "outputs": [
    {
     "data": {
      "text/plain": [
       "<praw.models.listing.generator.ListingGenerator at 0x240da6d1430>"
      ]
     },
     "execution_count": 23,
     "metadata": {},
     "output_type": "execute_result"
    }
   ],
   "source": [
    "search"
   ]
  },
  {
   "cell_type": "markdown",
   "metadata": {},
   "source": [
    "Creating a class for scraping reddit posts "
   ]
  },
  {
   "cell_type": "code",
   "execution_count": null,
   "metadata": {},
   "outputs": [],
   "source": [
    "cfg = Settings()\n",
    "\n",
    "class Reply():\n",
    "    def __init__(self,\n",
    "                 parent_id: str,\n",
    "                 id : str,\n",
    "                 content: str,\n",
    "                 upvotes: int,\n",
    "                 created_utc):\n",
    "        \n",
    "        self.parent_id =parent_id\n",
    "        self.id = id\n",
    "        self.content = content,\n",
    "        self.upvotes = upvotes,\n",
    "        self.created_utc = created_utc,\n",
    "        self.replies = []\n",
    "\n",
    "class Scraper():\n",
    "    def __init__(self,\n",
    "                client_id: str = cfg.api_id,\n",
    "                client_secret: str = cfg.api_secret,\n",
    "                username: str = cfg.username,\n",
    "                password: str = cfg.password,\n",
    "                max_posts: int = 10\n",
    "                ):\n",
    "        self.reddit = praw.Reddit(user_agent=True,\n",
    "                                    client_id=client_id,\n",
    "                                    client_secret=client_secret,\n",
    "                                    username=username,\n",
    "                                    password=password)\n",
    "        self.max_posts = max_posts\n",
    "        logger.info(\"Reddit API successfully initialized.\")\n",
    "    \n",
    "    def _get_post_ids(self, \n",
    "                       query: str,\n",
    "                       ) -> List[str]:\n",
    "        search = self.subreddit('all').search(query, sort='relevance', time_filter='all', limit=self.max_posts)\n",
    "        return [str(post.id) for post in search]\n",
    "\n",
    "    def _scrape_reddit_post(self, post_id: str):\n",
    "        submission = self.reddit.submission(id=post_id)\n",
    "        submission.comments.replace_more(limit=None)\n",
    "\n",
    "        post_str = \"\"\n",
    "        comment_data, replies_data = [{} for i in range(3)]\n",
    "\n",
    "        #Get post data\n",
    "        post_data = {\n",
    "            \"post_id\": str(submission.id),\n",
    "            \"title\": str(submission.title),\n",
    "            \"author\": str(submission.author),\n",
    "            \"subreddit\": str(submission.subreddit),\n",
    "            \"content\": str(submission.selftext),\n",
    "            \"upvotes\": int(submission.score),\n",
    "            \"downvotes\": int((1.0 - submission.upvote_ratio)*submission.score),\n",
    "            \"created_utc\":submission.created_utc\n",
    "        }\n",
    "\n",
    "        #Get comment and replies data\n",
    "        comment_data = {\n",
    "            \"post_id\": str(submission.id),\n",
    "            \"comment_id\": [],\n",
    "            \"author\": [],\n",
    "            \"content\": [],\n",
    "            \"upvotes\": [],\n",
    "            \"created_utc\": [],\n",
    "            \"replies\": []\n",
    "        }\n",
    "\n",
    "        def get_replies(reply) -> Reply:\n",
    "            rep = Reply(parent_id=reply.parent_id,\n",
    "                          id=reply.id,\n",
    "                          content=reply.body,\n",
    "                          upvotes=reply.score,\n",
    "                          created_utc=reply.created_utc)\n",
    "            \n",
    "            if reply.replies:\n",
    "                for nested_reply in reply.replies:\n",
    "                    rep.replies.append(get_replies(nested_reply))\n",
    "\n",
    "            return rep\n",
    "\n",
    "        for comment in submission.comments:\n",
    "            comment_data[\"comment_id\"].append(str(comment.id))\n",
    "            comment_data[\"author\"].append(str(comment.author))\n",
    "            comment_data[\"content\"].append(str(comment.body))\n",
    "            comment_data[\"upvotes\"].append(int(comment.score))\n",
    "            comment_data[\"created_utc\"].append(int(comment.created_utc))\n",
    "\n",
    "            for reply in comment.replies:\n",
    "                comment_data[\"replies\"].append(get_replies(reply))\n",
    "\n",
    "\n",
    "        \n",
    "        \n",
    "        return post_data, comment_data\n"
   ]
  }
 ],
 "metadata": {
  "kernelspec": {
   "display_name": ".venv",
   "language": "python",
   "name": "python3"
  },
  "language_info": {
   "codemirror_mode": {
    "name": "ipython",
    "version": 3
   },
   "file_extension": ".py",
   "mimetype": "text/x-python",
   "name": "python",
   "nbconvert_exporter": "python",
   "pygments_lexer": "ipython3",
   "version": "3.12.8"
  }
 },
 "nbformat": 4,
 "nbformat_minor": 2
}
