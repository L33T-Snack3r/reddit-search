{
 "cells": [
  {
   "cell_type": "markdown",
   "metadata": {},
   "source": [
    "### Reddit PRAW testing"
   ]
  },
  {
   "cell_type": "code",
   "execution_count": 1,
   "metadata": {},
   "outputs": [],
   "source": [
    "import praw\n",
    "import pandas as pd\n",
    "from pydantic_settings import BaseSettings, SettingsConfigDict\n",
    "from loguru import logger\n"
   ]
  },
  {
   "cell_type": "code",
   "execution_count": 3,
   "metadata": {},
   "outputs": [],
   "source": [
    "class Settings(BaseSettings):\n",
    "    model_config = SettingsConfigDict(env_prefix=\"reddit_\")\n",
    "    api_id : str\n",
    "    api_secret: str\n",
    "    username: str\n",
    "    password: str"
   ]
  },
  {
   "cell_type": "code",
   "execution_count": 5,
   "metadata": {},
   "outputs": [],
   "source": [
    "cfg=Settings()"
   ]
  },
  {
   "cell_type": "code",
   "execution_count": 6,
   "metadata": {},
   "outputs": [],
   "source": [
    "reddit = praw.Reddit(user_agent=True,\n",
    "                        client_id=cfg.api_id,\n",
    "                        client_secret=cfg.api_secret,\n",
    "                        username=cfg.username,\n",
    "                        password=cfg.password)"
   ]
  },
  {
   "cell_type": "code",
   "execution_count": 18,
   "metadata": {},
   "outputs": [
    {
     "data": {
      "text/plain": [
       "[]"
      ]
     },
     "execution_count": 18,
     "metadata": {},
     "output_type": "execute_result"
    }
   ],
   "source": [
    "url=\"https://www.reddit.com/r/migraine/comments/12gvvx3/what_headachemigraine_meds_is_most_favorable_in/\"\n",
    "submission=reddit.submission(url=url)\n",
    "submission.comments.replace_more(limit=0)"
   ]
  },
  {
   "cell_type": "code",
   "execution_count": 19,
   "metadata": {},
   "outputs": [],
   "source": [
    "post_data = {\n",
    "    \"title\": submission.title,\n",
    "    \"score\": submission.score,\n",
    "    \"url\": submission.url,\n",
    "    \"subreddit\": str(submission.subreddit),\n",
    "    \"author\": str(submission.author),\n",
    "    \"created_utc\": submission.created_utc,\n",
    "    \"text\": submission.selftext,\n",
    "    \"comments\": [{\n",
    "        \"author\": str(comment.author),\n",
    "        \"body\": comment.body,\n",
    "        \"score\": comment.score,\n",
    "        \"created_utc\": comment.created_utc\n",
    "    } for comment in submission.comments]\n",
    "}"
   ]
  },
  {
   "cell_type": "code",
   "execution_count": 20,
   "metadata": {},
   "outputs": [
    {
     "data": {
      "text/plain": [
       "76"
      ]
     },
     "execution_count": 20,
     "metadata": {},
     "output_type": "execute_result"
    }
   ],
   "source": [
    "len(post_data[\"comments\"])"
   ]
  },
  {
   "cell_type": "code",
   "execution_count": null,
   "metadata": {},
   "outputs": [],
   "source": [
    "cfg = Settings()\n",
    "\n",
    "class Scraper():\n",
    "    def __init__(self,\n",
    "                client_id: str = cfg.api_id,\n",
    "                client_secret: str = cfg.api_secret,\n",
    "                username: str = cfg.username,\n",
    "                password: str = cfg.password\n",
    "                ):\n",
    "        self.reddit = praw.Reddit(user_agent=True,\n",
    "                                    client_id=client_id,\n",
    "                                    client_secret=client_secret,\n",
    "                                    username=username,\n",
    "                                    password=password)\n",
    "        logger.info(\"Reddit API successfully initialized.\")\n",
    "    \n",
    "    def _scrape_reddit_post(self, url: str):\n",
    "        submission = self.reddit.submission(url=url)\n",
    "        submission.comments.replace_more(limit=0)\n",
    "\n",
    "        post_data = {\n",
    "            \"title\": submission.title,\n",
    "            \"score\": submission.score,\n",
    "            \"url\": submission.url,\n",
    "            \"subreddit\": str(submission.subreddit),\n",
    "            \"author\": str(submission.author),\n",
    "            \"created_utc\": submission.created_utc,\n",
    "            \"text\": submission.selftext,\n",
    "            \"comments\": [{\n",
    "                \"author\": str(comment.author),\n",
    "                \"body\": comment.body,\n",
    "                \"score\": comment.score,\n",
    "                \"created_utc\": comment.created_utc\n",
    "            } for comment in submission.comments]\n",
    "        }\n",
    "        \n",
    "        return post_data\n"
   ]
  }
 ],
 "metadata": {
  "kernelspec": {
   "display_name": ".venv",
   "language": "python",
   "name": "python3"
  },
  "language_info": {
   "codemirror_mode": {
    "name": "ipython",
    "version": 3
   },
   "file_extension": ".py",
   "mimetype": "text/x-python",
   "name": "python",
   "nbconvert_exporter": "python",
   "pygments_lexer": "ipython3",
   "version": "3.12.8"
  }
 },
 "nbformat": 4,
 "nbformat_minor": 2
}
